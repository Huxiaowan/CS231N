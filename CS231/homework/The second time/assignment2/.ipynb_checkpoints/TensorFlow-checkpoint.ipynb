{
 "metadata": {
  "kernelspec": {
   "display_name": "Python 3",
   "language": "python",
   "name": "python3"
  },
  "language_info": {
   "codemirror_mode": {
    "name": "ipython",
    "version": 2
   },
   "file_extension": ".py",
   "mimetype": "text/x-python",
   "name": "python",
   "nbconvert_exporter": "python",
   "pygments_lexer": "ipython2",
   "version": "2.7.12"
  },
  "name": "",
  "signature": "sha256:76e1eef47edd16795a827dd024796516e6c0c050a7a20aa12bdf3c68803eebe5"
 },
 "nbformat": 3,
 "nbformat_minor": 0,
 "worksheets": [
  {
   "cells": [
    {
     "cell_type": "markdown",
     "metadata": {},
     "source": [
      "## What's this TensorFlow business?\n",
      "\n",
      "You've written a lot of code in this assignment to provide a whole host of neural network functionality. Dropout, Batch Norm, and 2D convolutions are some of the workhorses of deep learning in computer vision. You've also worked hard to make your code efficient and vectorized.\n",
      "\n",
      "For the last part of this assignment, though, we're going to leave behind your beautiful codebase and instead migrate to one of two popular deep learning frameworks: in this instance, TensorFlow (or PyTorch, if you switch over to that notebook)\n",
      "\n",
      "#### What is it?\n",
      "TensorFlow is a system for executing computational graphs over Tensor objects, with native support for performing backpropogation for its Variables. In it, we work with Tensors which are n-dimensional arrays analogous to the numpy ndarray.\n",
      "\n",
      "#### Why?\n",
      "\n",
      "* Our code will now run on GPUs! Much faster training. Writing your own modules to run on GPUs is beyond the scope of this class, unfortunately.\n",
      "* We want you to be ready to use one of these frameworks for your project so you can experiment more efficiently than if you were writing every feature you want to use by hand. \n",
      "* We want you to stand on the shoulders of giants! TensorFlow and PyTorch are both excellent frameworks that will make your lives a lot easier, and now that you understand their guts, you are free to use them :) \n",
      "* We want you to be exposed to the sort of deep learning code you might run into in academia or industry. "
     ]
    },
    {
     "cell_type": "markdown",
     "metadata": {},
     "source": [
      "## How will I learn TensorFlow?\n",
      "\n",
      "TensorFlow has many excellent tutorials available, including those from [Google themselves](https://www.tensorflow.org/get_started/get_started).\n",
      "\n",
      "Otherwise, this notebook will walk you through much of what you need to do to train models in TensorFlow. See the end of the notebook for some links to helpful tutorials if you want to learn more or need further clarification on topics that aren't fully explained here."
     ]
    },
    {
     "cell_type": "markdown",
     "metadata": {},
     "source": [
      "## Load Datasets\n"
     ]
    },
    {
     "cell_type": "code",
     "collapsed": false,
     "input": [
      "import tensorflow as tf\n",
      "import numpy as np\n",
      "import math\n",
      "import timeit\n",
      "import matplotlib.pyplot as plt\n",
      "%matplotlib inline"
     ],
     "language": "python",
     "metadata": {},
     "outputs": [],
     "prompt_number": 18
    },
    {
     "cell_type": "code",
     "collapsed": true,
     "input": [
      "from cs231n.data_utils import load_CIFAR10\n",
      "\n",
      "def get_CIFAR10_data(num_training=49000, num_validation=1000, num_test=10000):\n",
      "    \"\"\"\n",
      "    Load the CIFAR-10 dataset from disk and perform preprocessing to prepare\n",
      "    it for the two-layer neural net classifier. These are the same steps as\n",
      "    we used for the SVM, but condensed to a single function.  \n",
      "    \"\"\"\n",
      "    # Load the raw CIFAR-10 data\n",
      "    cifar10_dir = 'cs231n/datasets/cifar-10-batches-py'\n",
      "    X_train, y_train, X_test, y_test = load_CIFAR10(cifar10_dir)\n",
      "\n",
      "    # Subsample the data\n",
      "    mask = range(num_training, num_training + num_validation)\n",
      "    X_val = X_train[mask]\n",
      "    y_val = y_train[mask]\n",
      "    mask = range(num_training)\n",
      "    X_train = X_train[mask]\n",
      "    y_train = y_train[mask]\n",
      "    mask = range(num_test)\n",
      "    X_test = X_test[mask]\n",
      "    y_test = y_test[mask]\n",
      "\n",
      "    # Normalize the data: subtract the mean image\n",
      "    mean_image = np.mean(X_train, axis=0)\n",
      "    X_train -= mean_image\n",
      "    X_val -= mean_image\n",
      "    X_test -= mean_image\n",
      "\n",
      "    return X_train, y_train, X_val, y_val, X_test, y_test\n",
      "\n",
      "\n",
      "# Invoke the above function to get our data.\n",
      "X_train, y_train, X_val, y_val, X_test, y_test = get_CIFAR10_data()\n",
      "print('Train data shape: ', X_train.shape)\n",
      "print('Train labels shape: ', y_train.shape)\n",
      "print('Validation data shape: ', X_val.shape)\n",
      "print('Validation labels shape: ', y_val.shape)\n",
      "print('Test data shape: ', X_test.shape)\n",
      "print('Test labels shape: ', y_test.shape)"
     ],
     "language": "python",
     "metadata": {},
     "outputs": [
      {
       "output_type": "stream",
       "stream": "stdout",
       "text": [
        "('Train data shape: ', (49000, 32, 32, 3))\n"
       ]
      },
      {
       "output_type": "stream",
       "stream": "stdout",
       "text": [
        "('Train labels shape: ', (49000,))\n",
        "('Validation data shape: ', (1000, 32, 32, 3))\n",
        "('Validation labels shape: ', (1000,))\n",
        "('Test data shape: ', (10000, 32, 32, 3))"
       ]
      },
      {
       "output_type": "stream",
       "stream": "stdout",
       "text": [
        "\n",
        "('Test labels shape: ', (10000,))\n"
       ]
      }
     ],
     "prompt_number": 19
    },
    {
     "cell_type": "markdown",
     "metadata": {},
     "source": [
      "## Example Model\n",
      "\n",
      "### Some useful utilities\n",
      "\n",
      ". Remember that our image data is initially N x H x W x C, where:\n",
      "* N is the number of datapoints\n",
      "* H is the height of each image in pixels\n",
      "* W is the height of each image in pixels\n",
      "* C is the number of channels (usually 3: R, G, B)\n",
      "\n",
      "This is the right way to represent the data when we are doing something like a 2D convolution, which needs spatial understanding of where the pixels are relative to each other. When we input image data into fully connected affine layers, however, we want each data example to be represented by a single vector -- it's no longer useful to segregate the different channels, rows, and columns of the data."
     ]
    },
    {
     "cell_type": "markdown",
     "metadata": {},
     "source": [
      "### The example model itself\n",
      "\n",
      "The first step to training your own model is defining its architecture.\n",
      "\n",
      "Here's an example of a convolutional neural network defined in TensorFlow -- try to understand what each line is doing, remembering that each layer is composed upon the previous layer. We haven't trained anything yet - that'll come next - for now, we want you to understand how everything gets set up. \n",
      "\n",
      "In that example, you see 2D convolutional layers (Conv2d), ReLU activations, and fully-connected layers (Linear). You also see the Hinge loss function, and the Adam optimizer being used. \n",
      "\n",
      "Make sure you understand why the parameters of the Linear layer are 5408 and 10.\n",
      "\n",
      "### TensorFlow Details\n",
      "In TensorFlow, much like in our previous notebooks, we'll first specifically initialize our variables, and then our network model."
     ]
    },
    {
     "cell_type": "code",
     "collapsed": true,
     "input": [
      "# clear old variables\n",
      "tf.reset_default_graph()\n",
      "\n",
      "# setup input (e.g. the data that changes every batch)\n",
      "# The first dim is None, and gets sets automatically based on batch size fed in\n",
      "X = tf.placeholder(tf.float32, [None, 32, 32, 3])\n",
      "y = tf.placeholder(tf.int64, [None])\n",
      "is_training = tf.placeholder(tf.bool)\n",
      "\n",
      "def simple_model(X,y):\n",
      "    # define our weights (e.g. init_two_layer_convnet)\n",
      "    \n",
      "    # setup variables\n",
      "    Wconv1 = tf.get_variable(\"Wconv1\", shape=[7, 7, 3, 32])\n",
      "    bconv1 = tf.get_variable(\"bconv1\", shape=[32])\n",
      "    W1 = tf.get_variable(\"W1\", shape=[5408, 10])\n",
      "    b1 = tf.get_variable(\"b1\", shape=[10])\n",
      "\n",
      "    # define our graph (e.g. two_layer_convnet)\n",
      "    a1 = tf.nn.conv2d(X, Wconv1, strides=[1,2,2,1], padding='VALID') + bconv1\n",
      "    h1 = tf.nn.relu(a1)\n",
      "    h1_flat = tf.reshape(h1,[-1,5408])\n",
      "    y_out = tf.matmul(h1_flat,W1) + b1\n",
      "    return y_out\n",
      "\n",
      "y_out = simple_model(X,y)\n",
      "\n",
      "# define our loss\n",
      "total_loss = tf.losses.hinge_loss(tf.one_hot(y,10),logits=y_out)\n",
      "mean_loss = tf.reduce_mean(total_loss)\n",
      "\n",
      "# define our optimizer\n",
      "optimizer = tf.train.AdamOptimizer(5e-4) # select optimizer and set learning rate\n",
      "train_step = optimizer.minimize(mean_loss)"
     ],
     "language": "python",
     "metadata": {},
     "outputs": [],
     "prompt_number": 20
    },
    {
     "cell_type": "markdown",
     "metadata": {},
     "source": [
      "TensorFlow supports many other layer types, loss functions, and optimizers - you will experiment with these next. Here's the official API documentation for these (if any of the parameters used above were unclear, this resource will also be helpful). \n",
      "\n",
      "* Layers, Activations, Loss functions : https://www.tensorflow.org/api_guides/python/nn\n",
      "* Optimizers: https://www.tensorflow.org/api_guides/python/train#Optimizers\n",
      "* BatchNorm: https://www.tensorflow.org/api_docs/python/tf/layers/batch_normalization"
     ]
    },
    {
     "cell_type": "markdown",
     "metadata": {},
     "source": [
      "### Training the model on one epoch\n",
      "While we have defined a graph of operations above, in order to execute TensorFlow Graphs, by feeding them input data and computing the results, we first need to create a `tf.Session` object. A session encapsulates the control and state of the TensorFlow runtime. For more information, see the TensorFlow [Getting started](https://www.tensorflow.org/get_started/get_started) guide.\n",
      "\n",
      "Optionally we can also specify a device context such as `/cpu:0` or `/gpu:0`. For documentation on this behavior see [this TensorFlow guide](https://www.tensorflow.org/tutorials/using_gpu)\n",
      "\n",
      "You should see a validation loss of around 0.4 to 0.6 and an accuracy of 0.30 to 0.35 below"
     ]
    },
    {
     "cell_type": "code",
     "collapsed": true,
     "input": [
      "def run_model(session, predict, loss_val, Xd, yd,\n",
      "              epochs=1, batch_size=64, print_every=100,\n",
      "              training=None, plot_losses=False):\n",
      "    # have tensorflow compute accuracy\n",
      "    correct_prediction = tf.equal(tf.argmax(predict,1), y)\n",
      "    accuracy = tf.reduce_mean(tf.cast(correct_prediction, tf.float32))\n",
      "    \n",
      "    # shuffle indicies\n",
      "    train_indicies = np.arange(Xd.shape[0])\n",
      "    np.random.shuffle(train_indicies)\n",
      "\n",
      "    training_now = training is not None\n",
      "    \n",
      "    # setting up variables we want to compute (and optimizing)\n",
      "    # if we have a training function, add that to things we compute\n",
      "    variables = [mean_loss,correct_prediction,accuracy]\n",
      "    if training_now:\n",
      "        variables[-1] = training\n",
      "    \n",
      "    # counter \n",
      "    iter_cnt = 0\n",
      "    for e in range(epochs):\n",
      "        # keep track of losses and accuracy\n",
      "        correct = 0\n",
      "        losses = []\n",
      "        # make sure we iterate over the dataset once\n",
      "        for i in range(int(math.ceil(Xd.shape[0]/batch_size))):\n",
      "            # generate indicies for the batch\n",
      "            start_idx = (i*batch_size)%Xd.shape[0]\n",
      "            idx = train_indicies[start_idx:start_idx+batch_size]\n",
      "            \n",
      "            # create a feed dictionary for this batch\n",
      "            feed_dict = {X: Xd[idx,:],\n",
      "                         y: yd[idx],\n",
      "                         is_training: training_now }\n",
      "            # get batch size\n",
      "            actual_batch_size = yd[idx].shape[0]\n",
      "            \n",
      "            # have tensorflow compute loss and correct predictions\n",
      "            # and (if given) perform a training step\n",
      "            loss, corr, _ = session.run(variables,feed_dict=feed_dict)\n",
      "            \n",
      "            # aggregate performance stats\n",
      "            losses.append(loss*actual_batch_size)\n",
      "            correct += np.sum(corr)\n",
      "            \n",
      "            # print every now and then\n",
      "            if training_now and (iter_cnt % print_every) == 0:\n",
      "                print(\"Iteration {0}: with minibatch training loss = {1:.3g} and accuracy of {2:.2g}\"\\\n",
      "                      .format(iter_cnt,loss,np.sum(corr)/actual_batch_size))\n",
      "            iter_cnt += 1\n",
      "        total_correct = correct/Xd.shape[0]\n",
      "        total_loss = np.sum(losses)/Xd.shape[0]\n",
      "        print(\"Epoch {2}, Overall loss = {0:.3g} and accuracy of {1:.3g}\"\\\n",
      "              .format(total_loss,total_correct,e+1))\n",
      "        if plot_losses:\n",
      "            plt.plot(losses)\n",
      "            plt.grid(True)\n",
      "            plt.title('Epoch {} Loss'.format(e+1))\n",
      "            plt.xlabel('minibatch number')\n",
      "            plt.ylabel('minibatch loss')\n",
      "            plt.show()\n",
      "    return total_loss,total_correct\n",
      "\n",
      "with tf.Session() as sess:\n",
      "    with tf.device(\"/cpu:0\"): #\"/cpu:0\" or \"/gpu:0\" \n",
      "        sess.run(tf.global_variables_initializer())\n",
      "        print('Training')\n",
      "        run_model(sess,y_out,mean_loss,X_train,y_train,1,64,100,train_step,True)\n",
      "        print('Validation')\n",
      "        run_model(sess,y_out,mean_loss,X_val,y_val,1,64)"
     ],
     "language": "python",
     "metadata": {},
     "outputs": [
      {
       "ename": "InvalidArgumentError",
       "evalue": "Cannot assign a device for operation 'init_2': Operation was explicitly assigned to /device:GPU:0 but available devices are [ /job:localhost/replica:0/task:0/device:CPU:0 ]. Make sure the device specification refers to a valid device.\n\t [[Node: init_2 = NoOp[_device=\"/device:GPU:0\"](^Wconv1/Assign, ^bconv1/Assign, ^W1/Assign, ^b1/Assign, ^beta1_power/Assign, ^beta2_power/Assign, ^Wconv1/Adam/Assign, ^Wconv1/Adam_1/Assign, ^bconv1/Adam/Assign, ^bconv1/Adam_1/Assign, ^W1/Adam/Assign, ^W1/Adam_1/Assign, ^b1/Adam/Assign, ^b1/Adam_1/Assign)]]\n\nCaused by op u'init_2', defined at:\n  File \"<string>\", line 1, in <module>\n  File \"/usr/lib/python2.7/dist-packages/IPython/kernel/zmq/kernelapp.py\", line 469, in main\n    app.start()\n  File \"/usr/lib/python2.7/dist-packages/IPython/kernel/zmq/kernelapp.py\", line 459, in start\n    ioloop.IOLoop.instance().start()\n  File \"/usr/lib/python2.7/dist-packages/zmq/eventloop/ioloop.py\", line 162, in start\n    super(ZMQIOLoop, self).start()\n  File \"/usr/lib/python2.7/dist-packages/tornado/ioloop.py\", line 866, in start\n    handler_func(fd_obj, events)\n  File \"/usr/lib/python2.7/dist-packages/tornado/stack_context.py\", line 275, in null_wrapper\n    return fn(*args, **kwargs)\n  File \"/usr/lib/python2.7/dist-packages/zmq/eventloop/zmqstream.py\", line 440, in _handle_events\n    self._handle_recv()\n  File \"/usr/lib/python2.7/dist-packages/zmq/eventloop/zmqstream.py\", line 472, in _handle_recv\n    self._run_callback(callback, msg)\n  File \"/usr/lib/python2.7/dist-packages/zmq/eventloop/zmqstream.py\", line 414, in _run_callback\n    callback(*args, **kwargs)\n  File \"/usr/lib/python2.7/dist-packages/tornado/stack_context.py\", line 275, in null_wrapper\n    return fn(*args, **kwargs)\n  File \"/usr/lib/python2.7/dist-packages/IPython/kernel/zmq/ipkernel.py\", line 281, in dispatcher\n    return self.dispatch_shell(stream, msg)\n  File \"/usr/lib/python2.7/dist-packages/IPython/kernel/zmq/ipkernel.py\", line 245, in dispatch_shell\n    handler(stream, idents, msg)\n  File \"/usr/lib/python2.7/dist-packages/IPython/kernel/zmq/ipkernel.py\", line 389, in execute_request\n    shell.run_cell(code, store_history=store_history, silent=silent)\n  File \"/usr/lib/python2.7/dist-packages/IPython/core/interactiveshell.py\", line 2741, in run_cell\n    interactivity=interactivity, compiler=compiler)\n  File \"/usr/lib/python2.7/dist-packages/IPython/core/interactiveshell.py\", line 2827, in run_ast_nodes\n    if self.run_code(code):\n  File \"/usr/lib/python2.7/dist-packages/IPython/core/interactiveshell.py\", line 2883, in run_code\n    exec(code_obj, self.user_global_ns, self.user_ns)\n  File \"<ipython-input-23-cadb3e21a481>\", line 65, in <module>\n    sess.run(tf.global_variables_initializer())\n  File \"/home/huxiaowan/.local/lib/python2.7/site-packages/tensorflow/python/ops/variables.py\", line 1555, in global_variables_initializer\n    return variables_initializer(global_variables())\n  File \"/home/huxiaowan/.local/lib/python2.7/site-packages/tensorflow/python/ops/variables.py\", line 1532, in variables_initializer\n    return control_flow_ops.group(*[v.initializer for v in var_list], name=name)\n  File \"/home/huxiaowan/.local/lib/python2.7/site-packages/tensorflow/python/ops/control_flow_ops.py\", line 3243, in group\n    return _GroupControlDeps(dev, deps, name=name)\n  File \"/home/huxiaowan/.local/lib/python2.7/site-packages/tensorflow/python/ops/control_flow_ops.py\", line 3189, in _GroupControlDeps\n    return no_op(name=name)\n  File \"/home/huxiaowan/.local/lib/python2.7/site-packages/tensorflow/python/ops/gen_control_flow_ops.py\", line 299, in no_op\n    \"NoOp\", name=name)\n  File \"/home/huxiaowan/.local/lib/python2.7/site-packages/tensorflow/python/framework/op_def_library.py\", line 787, in _apply_op_helper\n    op_def=op_def)\n  File \"/home/huxiaowan/.local/lib/python2.7/site-packages/tensorflow/python/framework/ops.py\", line 3271, in create_op\n    op_def=op_def)\n  File \"/home/huxiaowan/.local/lib/python2.7/site-packages/tensorflow/python/framework/ops.py\", line 1650, in __init__\n    self._traceback = self._graph._extract_stack()  # pylint: disable=protected-access\n\nInvalidArgumentError (see above for traceback): Cannot assign a device for operation 'init_2': Operation was explicitly assigned to /device:GPU:0 but available devices are [ /job:localhost/replica:0/task:0/device:CPU:0 ]. Make sure the device specification refers to a valid device.\n\t [[Node: init_2 = NoOp[_device=\"/device:GPU:0\"](^Wconv1/Assign, ^bconv1/Assign, ^W1/Assign, ^b1/Assign, ^beta1_power/Assign, ^beta2_power/Assign, ^Wconv1/Adam/Assign, ^Wconv1/Adam_1/Assign, ^bconv1/Adam/Assign, ^bconv1/Adam_1/Assign, ^W1/Adam/Assign, ^W1/Adam_1/Assign, ^b1/Adam/Assign, ^b1/Adam_1/Assign)]]\n",
       "output_type": "pyerr",
       "traceback": [
        "\u001b[0;31m---------------------------------------------------------------------------\u001b[0m\n\u001b[0;31mInvalidArgumentError\u001b[0m                      Traceback (most recent call last)",
        "\u001b[0;32m<ipython-input-25-222d32418e3c>\u001b[0m in \u001b[0;36m<module>\u001b[0;34m()\u001b[0m\n\u001b[1;32m     63\u001b[0m \u001b[0;32mwith\u001b[0m \u001b[0mtf\u001b[0m\u001b[0;34m.\u001b[0m\u001b[0mSession\u001b[0m\u001b[0;34m(\u001b[0m\u001b[0;34m)\u001b[0m \u001b[0;32mas\u001b[0m \u001b[0msess\u001b[0m\u001b[0;34m:\u001b[0m\u001b[0;34m\u001b[0m\u001b[0m\n\u001b[1;32m     64\u001b[0m     \u001b[0;32mwith\u001b[0m \u001b[0mtf\u001b[0m\u001b[0;34m.\u001b[0m\u001b[0mdevice\u001b[0m\u001b[0;34m(\u001b[0m\u001b[0;34m\"/cpu:0\"\u001b[0m\u001b[0;34m)\u001b[0m\u001b[0;34m:\u001b[0m \u001b[0;31m#\"/cpu:0\" or \"/gpu:0\"\u001b[0m\u001b[0;34m\u001b[0m\u001b[0m\n\u001b[0;32m---> 65\u001b[0;31m         \u001b[0msess\u001b[0m\u001b[0;34m.\u001b[0m\u001b[0mrun\u001b[0m\u001b[0;34m(\u001b[0m\u001b[0mtf\u001b[0m\u001b[0;34m.\u001b[0m\u001b[0mglobal_variables_initializer\u001b[0m\u001b[0;34m(\u001b[0m\u001b[0;34m)\u001b[0m\u001b[0;34m)\u001b[0m\u001b[0;34m\u001b[0m\u001b[0m\n\u001b[0m\u001b[1;32m     66\u001b[0m         \u001b[0;32mprint\u001b[0m\u001b[0;34m(\u001b[0m\u001b[0;34m'Training'\u001b[0m\u001b[0;34m)\u001b[0m\u001b[0;34m\u001b[0m\u001b[0m\n\u001b[1;32m     67\u001b[0m         \u001b[0mrun_model\u001b[0m\u001b[0;34m(\u001b[0m\u001b[0msess\u001b[0m\u001b[0;34m,\u001b[0m\u001b[0my_out\u001b[0m\u001b[0;34m,\u001b[0m\u001b[0mmean_loss\u001b[0m\u001b[0;34m,\u001b[0m\u001b[0mX_train\u001b[0m\u001b[0;34m,\u001b[0m\u001b[0my_train\u001b[0m\u001b[0;34m,\u001b[0m\u001b[0;36m1\u001b[0m\u001b[0;34m,\u001b[0m\u001b[0;36m64\u001b[0m\u001b[0;34m,\u001b[0m\u001b[0;36m100\u001b[0m\u001b[0;34m,\u001b[0m\u001b[0mtrain_step\u001b[0m\u001b[0;34m,\u001b[0m\u001b[0mTrue\u001b[0m\u001b[0;34m)\u001b[0m\u001b[0;34m\u001b[0m\u001b[0m\n",
        "\u001b[0;32m/home/huxiaowan/.local/lib/python2.7/site-packages/tensorflow/python/client/session.pyc\u001b[0m in \u001b[0;36mrun\u001b[0;34m(self, fetches, feed_dict, options, run_metadata)\u001b[0m\n\u001b[1;32m    903\u001b[0m     \u001b[0;32mtry\u001b[0m\u001b[0;34m:\u001b[0m\u001b[0;34m\u001b[0m\u001b[0m\n\u001b[1;32m    904\u001b[0m       result = self._run(None, fetches, feed_dict, options_ptr,\n\u001b[0;32m--> 905\u001b[0;31m                          run_metadata_ptr)\n\u001b[0m\u001b[1;32m    906\u001b[0m       \u001b[0;32mif\u001b[0m \u001b[0mrun_metadata\u001b[0m\u001b[0;34m:\u001b[0m\u001b[0;34m\u001b[0m\u001b[0m\n\u001b[1;32m    907\u001b[0m         \u001b[0mproto_data\u001b[0m \u001b[0;34m=\u001b[0m \u001b[0mtf_session\u001b[0m\u001b[0;34m.\u001b[0m\u001b[0mTF_GetBuffer\u001b[0m\u001b[0;34m(\u001b[0m\u001b[0mrun_metadata_ptr\u001b[0m\u001b[0;34m)\u001b[0m\u001b[0;34m\u001b[0m\u001b[0m\n",
        "\u001b[0;32m/home/huxiaowan/.local/lib/python2.7/site-packages/tensorflow/python/client/session.pyc\u001b[0m in \u001b[0;36m_run\u001b[0;34m(self, handle, fetches, feed_dict, options, run_metadata)\u001b[0m\n\u001b[1;32m   1135\u001b[0m     \u001b[0;32mif\u001b[0m \u001b[0mfinal_fetches\u001b[0m \u001b[0;32mor\u001b[0m \u001b[0mfinal_targets\u001b[0m \u001b[0;32mor\u001b[0m \u001b[0;34m(\u001b[0m\u001b[0mhandle\u001b[0m \u001b[0;32mand\u001b[0m \u001b[0mfeed_dict_tensor\u001b[0m\u001b[0;34m)\u001b[0m\u001b[0;34m:\u001b[0m\u001b[0;34m\u001b[0m\u001b[0m\n\u001b[1;32m   1136\u001b[0m       results = self._do_run(handle, final_targets, final_fetches,\n\u001b[0;32m-> 1137\u001b[0;31m                              feed_dict_tensor, options, run_metadata)\n\u001b[0m\u001b[1;32m   1138\u001b[0m     \u001b[0;32melse\u001b[0m\u001b[0;34m:\u001b[0m\u001b[0;34m\u001b[0m\u001b[0m\n\u001b[1;32m   1139\u001b[0m       \u001b[0mresults\u001b[0m \u001b[0;34m=\u001b[0m \u001b[0;34m[\u001b[0m\u001b[0;34m]\u001b[0m\u001b[0;34m\u001b[0m\u001b[0m\n",
        "\u001b[0;32m/home/huxiaowan/.local/lib/python2.7/site-packages/tensorflow/python/client/session.pyc\u001b[0m in \u001b[0;36m_do_run\u001b[0;34m(self, handle, target_list, fetch_list, feed_dict, options, run_metadata)\u001b[0m\n\u001b[1;32m   1353\u001b[0m     \u001b[0;32mif\u001b[0m \u001b[0mhandle\u001b[0m \u001b[0;32mis\u001b[0m \u001b[0mNone\u001b[0m\u001b[0;34m:\u001b[0m\u001b[0;34m\u001b[0m\u001b[0m\n\u001b[1;32m   1354\u001b[0m       return self._do_call(_run_fn, self._session, feeds, fetches, targets,\n\u001b[0;32m-> 1355\u001b[0;31m                            options, run_metadata)\n\u001b[0m\u001b[1;32m   1356\u001b[0m     \u001b[0;32melse\u001b[0m\u001b[0;34m:\u001b[0m\u001b[0;34m\u001b[0m\u001b[0m\n\u001b[1;32m   1357\u001b[0m       \u001b[0;32mreturn\u001b[0m \u001b[0mself\u001b[0m\u001b[0;34m.\u001b[0m\u001b[0m_do_call\u001b[0m\u001b[0;34m(\u001b[0m\u001b[0m_prun_fn\u001b[0m\u001b[0;34m,\u001b[0m \u001b[0mself\u001b[0m\u001b[0;34m.\u001b[0m\u001b[0m_session\u001b[0m\u001b[0;34m,\u001b[0m \u001b[0mhandle\u001b[0m\u001b[0;34m,\u001b[0m \u001b[0mfeeds\u001b[0m\u001b[0;34m,\u001b[0m \u001b[0mfetches\u001b[0m\u001b[0;34m)\u001b[0m\u001b[0;34m\u001b[0m\u001b[0m\n",
        "\u001b[0;32m/home/huxiaowan/.local/lib/python2.7/site-packages/tensorflow/python/client/session.pyc\u001b[0m in \u001b[0;36m_do_call\u001b[0;34m(self, fn, *args)\u001b[0m\n\u001b[1;32m   1372\u001b[0m         \u001b[0;32mexcept\u001b[0m \u001b[0mKeyError\u001b[0m\u001b[0;34m:\u001b[0m\u001b[0;34m\u001b[0m\u001b[0m\n\u001b[1;32m   1373\u001b[0m           \u001b[0;32mpass\u001b[0m\u001b[0;34m\u001b[0m\u001b[0m\n\u001b[0;32m-> 1374\u001b[0;31m       \u001b[0;32mraise\u001b[0m \u001b[0mtype\u001b[0m\u001b[0;34m(\u001b[0m\u001b[0me\u001b[0m\u001b[0;34m)\u001b[0m\u001b[0;34m(\u001b[0m\u001b[0mnode_def\u001b[0m\u001b[0;34m,\u001b[0m \u001b[0mop\u001b[0m\u001b[0;34m,\u001b[0m \u001b[0mmessage\u001b[0m\u001b[0;34m)\u001b[0m\u001b[0;34m\u001b[0m\u001b[0m\n\u001b[0m\u001b[1;32m   1375\u001b[0m \u001b[0;34m\u001b[0m\u001b[0m\n\u001b[1;32m   1376\u001b[0m   \u001b[0;32mdef\u001b[0m \u001b[0m_extend_graph\u001b[0m\u001b[0;34m(\u001b[0m\u001b[0mself\u001b[0m\u001b[0;34m)\u001b[0m\u001b[0;34m:\u001b[0m\u001b[0;34m\u001b[0m\u001b[0m\n",
        "\u001b[0;31mInvalidArgumentError\u001b[0m: Cannot assign a device for operation 'init_2': Operation was explicitly assigned to /device:GPU:0 but available devices are [ /job:localhost/replica:0/task:0/device:CPU:0 ]. Make sure the device specification refers to a valid device.\n\t [[Node: init_2 = NoOp[_device=\"/device:GPU:0\"](^Wconv1/Assign, ^bconv1/Assign, ^W1/Assign, ^b1/Assign, ^beta1_power/Assign, ^beta2_power/Assign, ^Wconv1/Adam/Assign, ^Wconv1/Adam_1/Assign, ^bconv1/Adam/Assign, ^bconv1/Adam_1/Assign, ^W1/Adam/Assign, ^W1/Adam_1/Assign, ^b1/Adam/Assign, ^b1/Adam_1/Assign)]]\n\nCaused by op u'init_2', defined at:\n  File \"<string>\", line 1, in <module>\n  File \"/usr/lib/python2.7/dist-packages/IPython/kernel/zmq/kernelapp.py\", line 469, in main\n    app.start()\n  File \"/usr/lib/python2.7/dist-packages/IPython/kernel/zmq/kernelapp.py\", line 459, in start\n    ioloop.IOLoop.instance().start()\n  File \"/usr/lib/python2.7/dist-packages/zmq/eventloop/ioloop.py\", line 162, in start\n    super(ZMQIOLoop, self).start()\n  File \"/usr/lib/python2.7/dist-packages/tornado/ioloop.py\", line 866, in start\n    handler_func(fd_obj, events)\n  File \"/usr/lib/python2.7/dist-packages/tornado/stack_context.py\", line 275, in null_wrapper\n    return fn(*args, **kwargs)\n  File \"/usr/lib/python2.7/dist-packages/zmq/eventloop/zmqstream.py\", line 440, in _handle_events\n    self._handle_recv()\n  File \"/usr/lib/python2.7/dist-packages/zmq/eventloop/zmqstream.py\", line 472, in _handle_recv\n    self._run_callback(callback, msg)\n  File \"/usr/lib/python2.7/dist-packages/zmq/eventloop/zmqstream.py\", line 414, in _run_callback\n    callback(*args, **kwargs)\n  File \"/usr/lib/python2.7/dist-packages/tornado/stack_context.py\", line 275, in null_wrapper\n    return fn(*args, **kwargs)\n  File \"/usr/lib/python2.7/dist-packages/IPython/kernel/zmq/ipkernel.py\", line 281, in dispatcher\n    return self.dispatch_shell(stream, msg)\n  File \"/usr/lib/python2.7/dist-packages/IPython/kernel/zmq/ipkernel.py\", line 245, in dispatch_shell\n    handler(stream, idents, msg)\n  File \"/usr/lib/python2.7/dist-packages/IPython/kernel/zmq/ipkernel.py\", line 389, in execute_request\n    shell.run_cell(code, store_history=store_history, silent=silent)\n  File \"/usr/lib/python2.7/dist-packages/IPython/core/interactiveshell.py\", line 2741, in run_cell\n    interactivity=interactivity, compiler=compiler)\n  File \"/usr/lib/python2.7/dist-packages/IPython/core/interactiveshell.py\", line 2827, in run_ast_nodes\n    if self.run_code(code):\n  File \"/usr/lib/python2.7/dist-packages/IPython/core/interactiveshell.py\", line 2883, in run_code\n    exec(code_obj, self.user_global_ns, self.user_ns)\n  File \"<ipython-input-23-cadb3e21a481>\", line 65, in <module>\n    sess.run(tf.global_variables_initializer())\n  File \"/home/huxiaowan/.local/lib/python2.7/site-packages/tensorflow/python/ops/variables.py\", line 1555, in global_variables_initializer\n    return variables_initializer(global_variables())\n  File \"/home/huxiaowan/.local/lib/python2.7/site-packages/tensorflow/python/ops/variables.py\", line 1532, in variables_initializer\n    return control_flow_ops.group(*[v.initializer for v in var_list], name=name)\n  File \"/home/huxiaowan/.local/lib/python2.7/site-packages/tensorflow/python/ops/control_flow_ops.py\", line 3243, in group\n    return _GroupControlDeps(dev, deps, name=name)\n  File \"/home/huxiaowan/.local/lib/python2.7/site-packages/tensorflow/python/ops/control_flow_ops.py\", line 3189, in _GroupControlDeps\n    return no_op(name=name)\n  File \"/home/huxiaowan/.local/lib/python2.7/site-packages/tensorflow/python/ops/gen_control_flow_ops.py\", line 299, in no_op\n    \"NoOp\", name=name)\n  File \"/home/huxiaowan/.local/lib/python2.7/site-packages/tensorflow/python/framework/op_def_library.py\", line 787, in _apply_op_helper\n    op_def=op_def)\n  File \"/home/huxiaowan/.local/lib/python2.7/site-packages/tensorflow/python/framework/ops.py\", line 3271, in create_op\n    op_def=op_def)\n  File \"/home/huxiaowan/.local/lib/python2.7/site-packages/tensorflow/python/framework/ops.py\", line 1650, in __init__\n    self._traceback = self._graph._extract_stack()  # pylint: disable=protected-access\n\nInvalidArgumentError (see above for traceback): Cannot assign a device for operation 'init_2': Operation was explicitly assigned to /device:GPU:0 but available devices are [ /job:localhost/replica:0/task:0/device:CPU:0 ]. Make sure the device specification refers to a valid device.\n\t [[Node: init_2 = NoOp[_device=\"/device:GPU:0\"](^Wconv1/Assign, ^bconv1/Assign, ^W1/Assign, ^b1/Assign, ^beta1_power/Assign, ^beta2_power/Assign, ^Wconv1/Adam/Assign, ^Wconv1/Adam_1/Assign, ^bconv1/Adam/Assign, ^bconv1/Adam_1/Assign, ^W1/Adam/Assign, ^W1/Adam_1/Assign, ^b1/Adam/Assign, ^b1/Adam_1/Assign)]]\n"
       ]
      }
     ],
     "prompt_number": 25
    },
    {
     "cell_type": "markdown",
     "metadata": {},
     "source": [
      "## Training a specific model\n",
      "\n",
      "In this section, we're going to specify a model for you to construct. The goal here isn't to get good performance (that'll be next), but instead to get comfortable with understanding the TensorFlow documentation and configuring your own model. \n",
      "\n",
      "Using the code provided above as guidance, and using the following TensorFlow documentation, specify a model with the following architecture:\n",
      "\n",
      "* 7x7 Convolutional Layer with 32 filters and stride of 1\n",
      "* ReLU Activation Layer\n",
      "* Spatial Batch Normalization Layer (trainable parameters, with scale and centering)\n",
      "* 2x2 Max Pooling layer with a stride of 2\n",
      "* Affine layer with 1024 output units\n",
      "* ReLU Activation Layer\n",
      "* Affine layer from 1024 input units to 10 outputs\n",
      "\n"
     ]
    },
    {
     "cell_type": "code",
     "collapsed": true,
     "input": [
      "# clear old variables\n",
      "tf.reset_default_graph()\n",
      "\n",
      "# define our input (e.g. the data that changes every batch)\n",
      "# The first dim is None, and gets sets automatically based on batch size fed in\n",
      "X = tf.placeholder(tf.float32, [None, 32, 32, 3])\n",
      "y = tf.placeholder(tf.int64, [None])\n",
      "is_training = tf.placeholder(tf.bool)\n",
      "\n",
      "# define model\n",
      "def complex_model(X,y,is_training):\n",
      "    # define our weights (e.g. init_two_layer_convnet)\n",
      "    \n",
      "    # setup variables\n",
      "    #conv layer\n",
      "    Wconv1 = tf.get_variable(\"Wconv1\", shape=[7, 7, 3, 32])\n",
      "    bconv1 = tf.get_variable(\"bconv1\", shape=[32])\n",
      "    #affine1 layer\n",
      "    W1 = tf.get_variable(\"W1\", shape=[5408, 1024])\n",
      "    b1 = tf.get_variable(\"b1\", shape=[1024])\n",
      "    #affine2 layer\n",
      "    W2 = tf.get_variable(\"W2\", shape=[1024, 10])\n",
      "    b2 = tf.get_variable(\"b2\", shape=[10])\n",
      "\n",
      "    # define our graph (e.g. two_layer_convnet)\n",
      "    a1 = tf.nn.conv2d(X, Wconv1, strides=[1,1,1,1], padding='VALID') + bconv1\n",
      "    h1 = tf.nn.relu(a1)\n",
      "    #spatial batch normalization\n",
      "    num_filters=32\n",
      "    # compute on which dimensions\n",
      "    axes = [0,1,2]   \n",
      "    mean,var=tf.nn.moments(h1,axes=axes)\n",
      "    offset = tf.Variable(tf.zeros([num_filters]))\n",
      "    scale = tf.Variable(tf.ones([num_filters]))\n",
      "    eps=0.0001\n",
      "    bn1=tf.nn.batch_normalization(h1,mean,var,offset=offset,scale=scale,variance_epsilon=eps)\n",
      "    \n",
      "    pool1=tf.nn.max_pool(bn1,ksize=[1,2,2,1], strides=[1,2,2,1],padding='SAME')\n",
      "    p1_flat = tf.reshape(pool1,[-1,5408])\n",
      "    y1_out = tf.matmul(p1_flat,W1) + b1\n",
      "    \n",
      "    h2 = tf.nn.relu(y1_out)\n",
      "    h2_flat = tf.reshape(h2,[-1,1024])\n",
      "    y2_out = tf.matmul(h2_flat,W2) + b2\n",
      "    \n",
      "    return y2_out\n",
      "\n",
      "y_out = complex_model(X,y,is_training)"
     ],
     "language": "python",
     "metadata": {},
     "outputs": [],
     "prompt_number": 5
    },
    {
     "cell_type": "markdown",
     "metadata": {},
     "source": [
      "To make sure you're doing the right thing, use the following tool to check the dimensionality of your output (it should be 64 x 10, since our batches have size 64 and the output of the final affine layer should be 10, corresponding to our 10 classes):"
     ]
    },
    {
     "cell_type": "code",
     "collapsed": true,
     "input": [
      "# Now we're going to feed a random batch into the model \n",
      "# and make sure the output is the right size\n",
      "x = np.random.randn(64, 32, 32,3)\n",
      "with tf.Session() as sess:\n",
      "    with tf.device(\"/cpu:0\"): #\"/cpu:0\" or \"/gpu:0\"\n",
      "        tf.global_variables_initializer().run()\n",
      "\n",
      "        ans = sess.run(y_out,feed_dict={X:x,is_training:True})\n",
      "        %timeit sess.run(y_out,feed_dict={X:x,is_training:True})\n",
      "        print(ans.shape)\n",
      "        print(np.array_equal(ans.shape, np.array([64, 10])))"
     ],
     "language": "python",
     "metadata": {},
     "outputs": [
      {
       "output_type": "stream",
       "stream": "stdout",
       "text": [
        "10 loops, best of 3: 60.8 ms per loop\n",
        "(64, 10)\n",
        "True\n"
       ]
      }
     ],
     "prompt_number": 6
    },
    {
     "cell_type": "markdown",
     "metadata": {},
     "source": [
      "You should see the following from the run above \n",
      "\n",
      "`(64, 10)`\n",
      "\n",
      "`True`"
     ]
    },
    {
     "cell_type": "markdown",
     "metadata": {},
     "source": [
      "### GPU!\n",
      "\n",
      "Now, we're going to try and start the model under the GPU device, the rest of the code stays unchanged and all our variables and operations will be computed using accelerated code paths. However, if there is no GPU, we get a Python exception and have to rebuild our graph. On a dual-core CPU, you might see around 50-80ms/batch running the above, while the Google Cloud GPUs (run below) should be around 2-5ms/batch."
     ]
    },
    {
     "cell_type": "code",
     "collapsed": true,
     "input": [
      "try:\n",
      "    with tf.Session() as sess:\n",
      "        with tf.device(\"/cpu:0\") as dev: #\"/cpu:0\" or \"/gpu:0\"\n",
      "            tf.global_variables_initializer().run()\n",
      "\n",
      "            ans = sess.run(y_out,feed_dict={X:x,is_training:True})\n",
      "            %timeit sess.run(y_out,feed_dict={X:x,is_training:True})\n",
      "except tf.errors.InvalidArgumentError:\n",
      "    print(\"no gpu found, please use Google Cloud if you want GPU acceleration\")    \n",
      "    # rebuild the graph\n",
      "    # trying to start a GPU throws an exception \n",
      "    # and also trashes the original graph\n",
      "    tf.reset_default_graph()\n",
      "    X = tf.placeholder(tf.float32, [None, 32, 32, 3])\n",
      "    y = tf.placeholder(tf.int64, [None])\n",
      "    is_training = tf.placeholder(tf.bool)\n",
      "    y_out = complex_model(X,y,is_training)"
     ],
     "language": "python",
     "metadata": {},
     "outputs": [
      {
       "output_type": "stream",
       "stream": "stdout",
       "text": [
        "10 loops, best of 3: 58 ms per loop\n"
       ]
      }
     ],
     "prompt_number": 7
    },
    {
     "cell_type": "markdown",
     "metadata": {},
     "source": [
      "You should observe that even a simple forward pass like this is significantly faster on the GPU. So for the rest of the assignment (and when you go train your models in assignment 3 and your project!), you should use GPU devices. However, with TensorFlow, the default device is a GPU if one is available, and a CPU otherwise, so we can skip the device specification from now on."
     ]
    },
    {
     "cell_type": "markdown",
     "metadata": {},
     "source": [
      "### Train the model.\n",
      "\n",
      "Now that you've seen how to define a model and do a single forward pass of some data through it, let's  walk through how you'd actually train one whole epoch over your training data (using the complex_model you created provided above).\n",
      "\n",
      "Make sure you understand how each TensorFlow function used below corresponds to what you implemented in your custom neural network implementation.\n",
      "\n",
      "First, set up an **RMSprop optimizer** (using a 1e-3 learning rate) and a **cross-entropy loss** function. See the TensorFlow documentation for more information\n",
      "* Layers, Activations, Loss functions : https://www.tensorflow.org/api_guides/python/nn\n",
      "* Optimizers: https://www.tensorflow.org/api_guides/python/train#Optimizers"
     ]
    },
    {
     "cell_type": "code",
     "collapsed": true,
     "input": [
      "# Inputs\n",
      "#     y_out: is what your model computes\n",
      "#     y: is your TensorFlow variable with label information\n",
      "# Outputs\n",
      "#    mean_loss: a TensorFlow variable (scalar) with numerical loss\n",
      "#    optimizer: a TensorFlow optimizer\n",
      "# This should be ~3 lines of code!\n",
      "mean_loss = None\n",
      "optimizer = None\n",
      "total_loss = tf.nn.softmax_cross_entropy_with_logits(labels=tf.one_hot(y,10),logits=y_out)\n",
      "mean_loss = tf.reduce_mean(total_loss)\n",
      "optimizer=tf.train.RMSPropOptimizer(1e-3)"
     ],
     "language": "python",
     "metadata": {},
     "outputs": [],
     "prompt_number": 9
    },
    {
     "cell_type": "code",
     "collapsed": true,
     "input": [
      "# batch normalization in tensorflow requires this extra dependency\n",
      "extra_update_ops = tf.get_collection(tf.GraphKeys.UPDATE_OPS)\n",
      "with tf.control_dependencies(extra_update_ops):\n",
      "    train_step = optimizer.minimize(mean_loss)"
     ],
     "language": "python",
     "metadata": {},
     "outputs": [],
     "prompt_number": 10
    },
    {
     "cell_type": "markdown",
     "metadata": {},
     "source": [
      "### Train the model\n",
      "Below we'll create a session and train the model over one epoch. You should see a loss of 1.4 to 2.0 and an accuracy of 0.4 to 0.5. There will be some variation due to random seeds and differences in initialization"
     ]
    },
    {
     "cell_type": "code",
     "collapsed": true,
     "input": [
      "sess = tf.Session()\n",
      "\n",
      "sess.run(tf.global_variables_initializer())\n",
      "print('Training')\n",
      "run_model(sess,y_out,mean_loss,X_train,y_train,1,64,100,train_step)"
     ],
     "language": "python",
     "metadata": {},
     "outputs": [
      {
       "output_type": "stream",
       "stream": "stdout",
       "text": [
        "Training\n",
        "Iteration 0: with minibatch training loss = 3.37 and accuracy of 0"
       ]
      },
      {
       "output_type": "stream",
       "stream": "stdout",
       "text": [
        "\n",
        "Iteration 100: with minibatch training loss = 2.13 and accuracy of 0"
       ]
      },
      {
       "output_type": "stream",
       "stream": "stdout",
       "text": [
        "\n",
        "Iteration 200: with minibatch training loss = 1.83 and accuracy of 0"
       ]
      },
      {
       "output_type": "stream",
       "stream": "stdout",
       "text": [
        "\n",
        "Iteration 300: with minibatch training loss = 1.75 and accuracy of 0"
       ]
      },
      {
       "output_type": "stream",
       "stream": "stdout",
       "text": [
        "\n",
        "Iteration 400: with minibatch training loss = 1.49 and accuracy of 0"
       ]
      },
      {
       "output_type": "stream",
       "stream": "stdout",
       "text": [
        "\n",
        "Iteration 500: with minibatch training loss = 1.56 and accuracy of 0"
       ]
      },
      {
       "output_type": "stream",
       "stream": "stdout",
       "text": [
        "\n",
        "Iteration 600: with minibatch training loss = 1.57 and accuracy of 0"
       ]
      },
      {
       "output_type": "stream",
       "stream": "stdout",
       "text": [
        "\n",
        "Iteration 700: with minibatch training loss = 1.29 and accuracy of 0"
       ]
      },
      {
       "output_type": "stream",
       "stream": "stdout",
       "text": [
        "\n",
        "Epoch 1, Overall loss = 1.68 and accuracy of 0"
       ]
      },
      {
       "output_type": "stream",
       "stream": "stdout",
       "text": [
        "\n"
       ]
      },
      {
       "metadata": {},
       "output_type": "pyout",
       "prompt_number": 11,
       "text": [
        "(1.6760549840343242, 0)"
       ]
      }
     ],
     "prompt_number": 11
    },
    {
     "cell_type": "markdown",
     "metadata": {},
     "source": [
      "### Check the accuracy of the model.\n",
      "\n",
      "Let's see the train and test code in action -- feel free to use these methods when evaluating the models you develop below. You should see a loss of 1.3 to 2.0 with an accuracy of 0.45 to 0.55."
     ]
    },
    {
     "cell_type": "code",
     "collapsed": true,
     "input": [
      "print('Validation')\n",
      "run_model(sess,y_out,mean_loss,X_val,y_val,1,64)"
     ],
     "language": "python",
     "metadata": {},
     "outputs": [
      {
       "output_type": "stream",
       "stream": "stdout",
       "text": [
        "Validation\n",
        "Epoch 1, Overall loss = 1.14 and accuracy of 0"
       ]
      },
      {
       "output_type": "stream",
       "stream": "stdout",
       "text": [
        "\n"
       ]
      },
      {
       "metadata": {},
       "output_type": "pyout",
       "prompt_number": 12,
       "text": [
        "(1.1428198738098145, 0)"
       ]
      }
     ],
     "prompt_number": 12
    },
    {
     "cell_type": "markdown",
     "metadata": {},
     "source": [
      "## Train a _great_ model on CIFAR-10!\n",
      "\n",
      "Now it's your job to experiment with architectures, hyperparameters, loss functions, and optimizers to train a model that achieves ** >= 70% accuracy on the validation set** of CIFAR-10. You can use the `run_model` function from above."
     ]
    },
    {
     "cell_type": "markdown",
     "metadata": {},
     "source": [
      "### Things you should try:\n",
      "- **Filter size**: Above we used 7x7; this makes pretty pictures but smaller filters may be more efficient\n",
      "- **Number of filters**: Above we used 32 filters. Do more or fewer do better?\n",
      "- **Pooling vs Strided Convolution**: Do you use max pooling or just stride convolutions?\n",
      "- **Batch normalization**: Try adding spatial batch normalization after convolution layers and vanilla batch normalization after affine layers. Do your networks train faster?\n",
      "- **Network architecture**: The network above has two layers of trainable parameters. Can you do better with a deep network? Good architectures to try include:\n",
      "    - [conv-relu-pool]xN -> [affine]xM -> [softmax or SVM]\n",
      "    - [conv-relu-conv-relu-pool]xN -> [affine]xM -> [softmax or SVM]\n",
      "    - [batchnorm-relu-conv]xN -> [affine]xM -> [softmax or SVM]\n",
      "- **Use TensorFlow Scope**: Use TensorFlow scope and/or [tf.layers](https://www.tensorflow.org/api_docs/python/tf/layers) to make it easier to write deeper networks. See [this tutorial](https://www.tensorflow.org/tutorials/layers) for how to use `tf.layers`. \n",
      "- **Use Learning Rate Decay**: [As the notes point out](http://cs231n.github.io/neural-networks-3/#anneal), decaying the learning rate might help the model converge. Feel free to decay every epoch, when loss doesn't change over an entire epoch, or any other heuristic you find appropriate. See the [Tensorflow documentation](https://www.tensorflow.org/versions/master/api_guides/python/train#Decaying_the_learning_rate) for learning rate decay.\n",
      "- **Global Average Pooling**: Instead of flattening and then having multiple affine layers, perform convolutions until your image gets small (7x7 or so) and then perform an average pooling operation to get to a 1x1 image picture (1, 1 , Filter#), which is then reshaped into a (Filter#) vector. This is used in [Google's Inception Network](https://arxiv.org/abs/1512.00567) (See Table 1 for their architecture).\n",
      "- **Regularization**: Add l2 weight regularization, or perhaps use [Dropout as in the TensorFlow MNIST tutorial](https://www.tensorflow.org/get_started/mnist/pros)\n",
      "\n",
      "### Tips for training\n",
      "For each network architecture that you try, you should tune the learning rate and regularization strength. When doing this there are a couple important things to keep in mind:\n",
      "\n",
      "- If the parameters are working well, you should see improvement within a few hundred iterations\n",
      "- Remember the coarse-to-fine approach for hyperparameter tuning: start by testing a large range of hyperparameters for just a few training iterations to find the combinations of parameters that are working at all.\n",
      "- Once you have found some sets of parameters that seem to work, search more finely around these parameters. You may need to train for more epochs.\n",
      "- You should use the validation set for hyperparameter search, and we'll save the test set for evaluating your architecture on the best parameters as selected by the validation set.\n",
      "\n",
      "### Going above and beyond\n",
      "If you are feeling adventurous there are many other features you can implement to try and improve your performance. You are **not required** to implement any of these; however they would be good things to try for extra credit.\n",
      "\n",
      "- Alternative update steps: For the assignment we implemented SGD+momentum, RMSprop, and Adam; you could try alternatives like AdaGrad or AdaDelta.\n",
      "- Alternative activation functions such as leaky ReLU, parametric ReLU, ELU, or MaxOut.\n",
      "- Model ensembles\n",
      "- Data augmentation\n",
      "- New Architectures\n",
      "  - [ResNets](https://arxiv.org/abs/1512.03385) where the input from the previous layer is added to the output.\n",
      "  - [DenseNets](https://arxiv.org/abs/1608.06993) where inputs into previous layers are concatenated together.\n",
      "  - [This blog has an in-depth overview](https://chatbotslife.com/resnets-highwaynets-and-densenets-oh-my-9bb15918ee32)\n",
      "\n",
      "If you do decide to implement something extra, clearly describe it in the \"Extra Credit Description\" cell below.\n",
      "\n",
      "### What we expect\n",
      "At the very least, you should be able to train a ConvNet that gets at **>= 70% accuracy on the validation set**. This is just a lower bound - if you are careful it should be possible to get accuracies much higher than that! Extra credit points will be awarded for particularly high-scoring models or unique approaches.\n",
      "\n",
      "You should use the space below to experiment and train your network. The final cell in this notebook should contain the training and validation set accuracies for your final trained network.\n",
      "\n",
      "Have fun and happy training!"
     ]
    },
    {
     "cell_type": "code",
     "collapsed": true,
     "input": [
      "# Feel free to play with this cell\n",
      "\n",
      "def conv33_relu_batch(inputs,num_filter):\n",
      "    regularizer = tf.contrib.layers.l2_regularizer(scale=0.2)\n",
      "    conv1 = tf.layers.conv2d(\n",
      "      inputs=inputs,\n",
      "      filters=num_filter,\n",
      "      strides=[1,1],\n",
      "      kernel_size=[3, 3],\n",
      "      padding=\"same\",\n",
      "      kernel_regularizer=regularizer)\n",
      "    relu1=tf.nn.relu6(conv1)\n",
      "    batch_norm1=tf.layers.batch_normalization(relu1,axis=1)\n",
      "    dropout1 = tf.layers.dropout(inputs=batch_norm1, rate=0.5)\n",
      "    conv2 = tf.layers.conv2d(\n",
      "      inputs=dropout1,\n",
      "    #when filters=2*num_filters,it achieve results follows just after 20 epochs\n",
      "        #val:(0.82898137760162349, 0.85199999999999998)\n",
      "        #test:(0.93189846858978276, 0.82850000000000001)\n",
      "        \n",
      "      filters=num_filter*2,\n",
      "      strides=[1,1],\n",
      "      kernel_size=[3, 3],\n",
      "      padding=\"same\",\n",
      "      kernel_regularizer=regularizer)\n",
      "    relu2=tf.nn.relu6(conv2)\n",
      "    batch_norm2=tf.layers.batch_normalization(relu2,axis=1)\n",
      "    pool= tf.layers.max_pooling2d(inputs=batch_norm2, pool_size=[2, 2], strides=2)\n",
      "    dropout2 = tf.layers.dropout(inputs=pool, rate=0.5)\n",
      "    return dropout2\n",
      "\n",
      "def my_model(X,y,is_training):\n",
      "    #structure\n",
      "    #[conv-relu-conv-relu] -> global average pooling -> [softmax]\n",
      "    num_classes=10\n",
      "    # define our graph use layer API\n",
      "    nn1=conv33_relu_batch(X,64)\n",
      "    nn2=conv33_relu_batch(nn1,128)\n",
      "    nn3=conv33_relu_batch(nn2,256)\n",
      "    #global average pooling\n",
      "    pool_size=(nn3.shape[1],nn3.shape[2])\n",
      "    pool_ave = tf.layers.average_pooling2d(\n",
      "      inputs=nn3,\n",
      "      pool_size=pool_size,\n",
      "      strides=[1,1],\n",
      "      padding='valid',\n",
      "      data_format='channels_last')\n",
      "    pool_ave_flat_size=pool_ave.shape[1]*pool_ave.shape[2]*pool_ave.shape[3]\n",
      "    pool_ave_flat = tf.reshape(pool_ave, [-1,pool_ave_flat_size])\n",
      "    dropout = tf.layers.dropout(inputs=pool_ave_flat, rate=0.5, training=is_training)\n",
      "    \n",
      "    y_out= tf.layers.dense(inputs=dropout, units=num_classes)\n",
      "    return y_out\n",
      "    \n",
      "\n",
      "tf.reset_default_graph()\n",
      "\n",
      "X = tf.placeholder(tf.float32, [None, 32, 32, 3])\n",
      "y = tf.placeholder(tf.int64, [None])\n",
      "is_training = tf.placeholder(tf.bool)\n",
      "\n",
      "y_out = my_model(X,y,is_training)\n",
      "total_loss = tf.nn.softmax_cross_entropy_with_logits(labels=tf.one_hot(y,10),logits=y_out)\n",
      "mean_loss = tf.reduce_mean(total_loss)\n",
      "\n",
      "#learning rate decay\n",
      "global_step = tf.Variable(0, trainable=False)\n",
      "initial_learning_rate=1e-2\n",
      "learning_rate = tf.train.exponential_decay(initial_learning_rate,\n",
      "                                           global_step=global_step,\n",
      "                                           decay_steps=50,decay_rate=0.9)\n",
      "\n",
      "optimizer=tf.train.AdagradOptimizer(learning_rate=learning_rate)\n",
      "\n",
      "\n",
      "pass\n",
      "\n",
      "# batch normalization in tensorflow requires this extra dependency\n",
      "extra_update_ops = tf.get_collection(tf.GraphKeys.UPDATE_OPS)\n",
      "with tf.control_dependencies(extra_update_ops):\n",
      "    train_step = optimizer.minimize(mean_loss)"
     ],
     "language": "python",
     "metadata": {},
     "outputs": [],
     "prompt_number": null
    },
    {
     "cell_type": "code",
     "collapsed": true,
     "input": [
      "# Feel free to play with this cell\n",
      "# This default code creates a session\n",
      "# and trains your model for 10 epochs\n",
      "# then prints the validation set accuracy\n",
      "sess = tf.Session()\n",
      "\n",
      "sess.run(tf.global_variables_initializer())\n",
      "print('Training')\n",
      "run_model(sess,y_out,mean_loss,X_train,y_train,10,64,100,train_step,True)\n",
      "print('Validation')\n",
      "run_model(sess,y_out,mean_loss,X_val,y_val,1,64)"
     ],
     "language": "python",
     "metadata": {},
     "outputs": [],
     "prompt_number": null
    },
    {
     "cell_type": "code",
     "collapsed": true,
     "input": [
      "# Test your model here, and make sure \n",
      "# the output of this cell is the accuracy\n",
      "# of your best model on the training and val sets\n",
      "# We're looking for >= 70% accuracy on Validation\n",
      "print('Training')\n",
      "run_model(sess,y_out,mean_loss,X_train,y_train,1,64)\n",
      "print('Validation')\n",
      "run_model(sess,y_out,mean_loss,X_val,y_val,1,64)"
     ],
     "language": "python",
     "metadata": {},
     "outputs": [],
     "prompt_number": null
    },
    {
     "cell_type": "markdown",
     "metadata": {},
     "source": [
      "### Describe what you did here\n",
      "In this cell you should also write an explanation of what you did, any additional features that you implemented, and any visualizations or graphs that you make in the process of training and evaluating your network"
     ]
    },
    {
     "cell_type": "markdown",
     "metadata": {},
     "source": [
      "_Tell us here_"
     ]
    },
    {
     "cell_type": "markdown",
     "metadata": {},
     "source": [
      "### Test Set - Do this only once\n",
      "Now that we've gotten a result that we're happy with, we test our final model on the test set. This would be the score we would achieve on a competition. Think about how this compares to your validation set accuracy."
     ]
    },
    {
     "cell_type": "code",
     "collapsed": true,
     "input": [
      "print('Test')\n",
      "run_model(sess,y_out,mean_loss,X_test,y_test,1,64)"
     ],
     "language": "python",
     "metadata": {},
     "outputs": [],
     "prompt_number": null
    },
    {
     "cell_type": "markdown",
     "metadata": {},
     "source": [
      "## Going further with TensorFlow\n",
      "\n",
      "The next assignment will make heavy use of TensorFlow. You might also find it useful for your projects. \n"
     ]
    },
    {
     "cell_type": "markdown",
     "metadata": {},
     "source": [
      "# Extra Credit Description\n",
      "If you implement any additional features for extra credit, clearly describe them here with pointers to any code in this or other files if applicable."
     ]
    }
   ],
   "metadata": {}
  }
 ]
}